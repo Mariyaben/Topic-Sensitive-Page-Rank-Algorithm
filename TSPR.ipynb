{
  "nbformat": 4,
  "nbformat_minor": 0,
  "metadata": {
    "colab": {
      "provenance": [],
      "authorship_tag": "ABX9TyMG/zCNIVwP/u+JVbptR7fC",
      "include_colab_link": true
    },
    "kernelspec": {
      "name": "python3",
      "display_name": "Python 3"
    },
    "language_info": {
      "name": "python"
    }
  },
  "cells": [
    {
      "cell_type": "markdown",
      "metadata": {
        "id": "view-in-github",
        "colab_type": "text"
      },
      "source": [
        "<a href=\"https://colab.research.google.com/github/Mariyaben/Topic-Sensitive-Page-Rank-Algorithm/blob/main/TSPR.ipynb\" target=\"_parent\"><img src=\"https://colab.research.google.com/assets/colab-badge.svg\" alt=\"Open In Colab\"/></a>"
      ]
    },
    {
      "cell_type": "code",
      "execution_count": 1,
      "metadata": {
        "colab": {
          "base_uri": "https://localhost:8080/"
        },
        "id": "H3cu8k3BE-so",
        "outputId": "1a81bf0a-9769-46cb-cfa8-623ad939af6f"
      },
      "outputs": [
        {
          "output_type": "stream",
          "name": "stdout",
          "text": [
            "Requirement already satisfied: pyspark in /usr/local/lib/python3.11/dist-packages (3.5.5)\n",
            "Requirement already satisfied: py4j==0.10.9.7 in /usr/local/lib/python3.11/dist-packages (from pyspark) (0.10.9.7)\n"
          ]
        }
      ],
      "source": [
        "!pip install pyspark\n"
      ]
    },
    {
      "cell_type": "code",
      "source": [
        "from pyspark.sql import SparkSession\n",
        "from pyspark import SparkContext, SparkConf\n"
      ],
      "metadata": {
        "id": "ca2OdpBTFF1w"
      },
      "execution_count": 2,
      "outputs": []
    },
    {
      "cell_type": "code",
      "source": [
        "# Create a Spark session\n",
        "spark = SparkSession.builder.appName(\"TopicSensitivePageRank\").getOrCreate()\n",
        "\n",
        "# Get the SparkContext\n",
        "sc = spark.sparkContext\n"
      ],
      "metadata": {
        "id": "-t8tpK0bFH8y"
      },
      "execution_count": 3,
      "outputs": []
    },
    {
      "cell_type": "code",
      "source": [
        "data = [\n",
        "    (\"A\", 1.0, [\"B\", \"C\"]),\n",
        "    (\"B\", 1.0, [\"C\", \"A\"]),\n",
        "    (\"C\", 1.0, [\"A\"]),\n",
        "    (\"D\", 1.0, [\"C\"]),\n",
        "]\n"
      ],
      "metadata": {
        "id": "_GuSiKA6FNY5"
      },
      "execution_count": 4,
      "outputs": []
    },
    {
      "cell_type": "code",
      "source": [
        "rdd = sc.parallelize(data)\n"
      ],
      "metadata": {
        "id": "h3tg0TXIFPV0"
      },
      "execution_count": 5,
      "outputs": []
    },
    {
      "cell_type": "code",
      "source": [
        "DAMPING_FACTOR = 0.85\n",
        "TOPIC_RELEVANT_PAGES = {\"A\", \"C\"}  # Example topic-relevant pages\n",
        "\n",
        "def compute_contributions(page, rank, links):\n",
        "    \"\"\"Distributes rank to outgoing links.\"\"\"\n",
        "    num_links = len(links)\n",
        "    if num_links == 0:\n",
        "        return []\n",
        "\n",
        "    contribution = rank / num_links\n",
        "    return [(link, contribution) for link in links]\n",
        "\n",
        "def topic_sensitive_pagerank(rdd, iterations=10):\n",
        "    \"\"\"Runs Topic-Sensitive PageRank using PySpark.\"\"\"\n",
        "\n",
        "    ranks = rdd.map(lambda x: (x[0], x[1]))  # (Page, Rank)\n",
        "    links = rdd.map(lambda x: (x[0], x[2]))  # (Page, OutgoingLinks)\n",
        "\n",
        "    for _ in range(iterations):\n",
        "        contributions = links.join(ranks).flatMap(\n",
        "            lambda x: compute_contributions(x[0], x[1][1], x[1][0])\n",
        "        )\n",
        "\n",
        "        new_ranks = contributions.reduceByKey(lambda x, y: x + y)\n",
        "\n",
        "        # Apply topic-sensitive teleportation\n",
        "        ranks = new_ranks.map(lambda x: (x[0],\n",
        "            (1 - DAMPING_FACTOR) * (1.0 if x[0] in TOPIC_RELEVANT_PAGES else 0.15) +\n",
        "            DAMPING_FACTOR * x[1])\n",
        "        )\n",
        "\n",
        "    return ranks.collect()\n",
        "\n",
        "# Run Topic-Sensitive PageRank\n",
        "final_ranks = topic_sensitive_pagerank(rdd)\n"
      ],
      "metadata": {
        "id": "Sc7fMzCXFSXR"
      },
      "execution_count": 6,
      "outputs": []
    },
    {
      "cell_type": "code",
      "source": [
        "for page, rank in final_ranks:\n",
        "    print(f\"Page: {page}, Rank: {rank:.4f}\")\n"
      ],
      "metadata": {
        "colab": {
          "base_uri": "https://localhost:8080/"
        },
        "id": "YKqtVEMSFU-v",
        "outputId": "bb7e512c-d5cc-426d-a064-bba2a202a03f"
      },
      "execution_count": 7,
      "outputs": [
        {
          "output_type": "stream",
          "name": "stdout",
          "text": [
            "Page: C, Rank: 0.8676\n",
            "Page: B, Rank: 0.5131\n",
            "Page: A, Rank: 1.1335\n"
          ]
        }
      ]
    }
  ]
}